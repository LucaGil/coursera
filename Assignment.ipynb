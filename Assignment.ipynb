{
  "metadata": {
    "language_info": {
      "codemirror_mode": {
        "name": "python",
        "version": 3
      },
      "file_extension": ".py",
      "mimetype": "text/x-python",
      "name": "python",
      "nbconvert_exporter": "python",
      "pygments_lexer": "ipython3",
      "version": "3.8"
    },
    "kernelspec": {
      "name": "python",
      "display_name": "Python (Pyodide)",
      "language": "python"
    }
  },
  "nbformat_minor": 4,
  "nbformat": 4,
  "cells": [
    {
      "cell_type": "markdown",
      "source": "Peer-graded Assignment: Submit Your Work and Grade Your Peers",
      "metadata": {}
    },
    {
      "cell_type": "markdown",
      "source": "Leveraging Jupyterlite Notebook on Skills Network labs, you will create your Jupyterlite Notebook (in English) and share it via a public GitHub link.",
      "metadata": {}
    },
    {
      "cell_type": "markdown",
      "source": "Here are the top nine programming languages that data scientists should know:\n- Python. Python is a general-purpose programming language that can get used to develop any software.\n- SQL (Structured Query Language) SQL is one of the world's most widely used programming languages.\n- R\n- Julia\n- JavaScript\n- Scal\n- Java\n- Go",
      "metadata": {}
    },
    {
      "cell_type": "markdown",
      "source": "Libraries for Data Science\n\nTensorFlow\nNumPy\nSciPy \nPandas\nMatplotlib \nKeras\nSciKit-Learn\nPyTorch\nScrapy\nBeautifulSoup\nLightGBM\nELI5\nTheano\nNuPIC\nRamp\nPipenv\nBob\nPyBrain\nCaffe2\nChainer",
      "metadata": {}
    },
    {
      "cell_type": "markdown",
      "source": "<!DOCTYPE html>\n<html>\n<head>\n\t<style>\n\t\ttable {\n\t\t\tborder:1px solid #b3adad;\n\t\t\tborder-collapse:collapse;\n\t\t\tpadding:5px;\n\t\t}\n\t\ttable th {\n\t\t\tborder:1px solid #b3adad;\n\t\t\tpadding:5px;\n\t\t\tbackground: #f0f0f0;\n\t\t\tcolor: #313030;\n\t\t}\n\t\ttable td {\n\t\t\tborder:1px solid #b3adad;\n\t\t\ttext-align:center;\n\t\t\tpadding:5px;\n\t\t\tbackground: #ffffff;\n\t\t\tcolor: #313030;\n\t\t}\n\t</style>\n</head>\n<body>\n\t<table>\n\t\t<thead>\n\t\t\t<tr>\n\t\t\t\t<th>Data Science Tools</th>\n\t\t\t</tr>\n\t\t</thead>\n\t\t<tbody>\n\t\t\t<tr>\n\t\t\t\t<td>Apache Spark&nbsp;</td>\n\t\t\t</tr>\n\t\t\t<tr>\n\t\t\t\t<td>Matlab&nbsp;</td>\n\t\t\t</tr>\n\t\t\t<tr>\n\t\t\t\t<td>&nbsp;Excel</td>\n\t\t\t</tr>\n\t\t\t<tr>\n\t\t\t\t<td>ggplot2&nbsp;</td>\n\t\t\t</tr>\n\t\t\t<tr>\n\t\t\t\t<td>Tableau&nbsp;</td>\n\t\t\t</tr>\n\t\t</tbody>\n\t</table>\n</body>\n</html>",
      "metadata": {}
    },
    {
      "cell_type": "markdown",
      "source": "Example of math algorithm",
      "metadata": {}
    },
    {
      "cell_type": "code",
      "source": "(5*5)+4",
      "metadata": {
        "trusted": true
      },
      "execution_count": 2,
      "outputs": [
        {
          "execution_count": 2,
          "output_type": "execute_result",
          "data": {
            "text/plain": "29"
          },
          "metadata": {}
        }
      ]
    },
    {
      "cell_type": "code",
      "source": "180/60",
      "metadata": {
        "trusted": true
      },
      "execution_count": 3,
      "outputs": [
        {
          "execution_count": 3,
          "output_type": "execute_result",
          "data": {
            "text/plain": "3.0"
          },
          "metadata": {}
        }
      ]
    },
    {
      "cell_type": "markdown",
      "source": "Objectives:\nExercise 2 - Create a markdown cell with the title of the notebook. (1 pt)\n\nExercise 3 - Create a markdown cell for an introduction. (1 pt)\n\nExercise 4 - Create a markdown cell to list data science languages. (3 pts)\n\nExercise 5 - Create a markdown cell to list data science libraries. (3 pts)\n\nExercise 6 - Create a markdown cell with a table of Data Science tools. (3 pts)\n\nExercise 7 - Create a markdown cell introducing arithmetic expression examples. (1 pt)\n\nExercise 8 - Create a code cell to multiply and add numbers. (2 pts)\n\nExercise 9 - Create a code cell to convert minutes to hours. (2 pts)\n\nExercise 10 -Insert a markdown cell to list Objectives. (3 pts)\n\nExercise 11 - Create a markdown cell to indicate the Author’s name. (2 pts)\n\nExercise 12 - Share your notebook through GitHub (3 pts)\n\nExercise 13 - Take a screenshot of the first page of the notebook. (1 pt)",
      "metadata": {}
    },
    {
      "cell_type": "markdown",
      "source": "Author: Luca G.",
      "metadata": {}
    }
  ]
}